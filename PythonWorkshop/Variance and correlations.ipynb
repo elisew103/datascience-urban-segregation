{
 "cells": [
  {
   "cell_type": "markdown",
   "metadata": {},
   "source": [
    "# Wiederholung: Berechnung deskriptiver Statistiken\n",
    "Wir hatten einen Datensatz mit dem Bargeld von Studierenden in einer Liste. Hier berechnen wir zur summarischen Beschreibung dieser Daten Mittelwert, Varianz und Standardabweichung."
   ]
  },
  {
   "cell_type": "code",
   "execution_count": 1,
   "metadata": {},
   "outputs": [
    {
     "name": "stdout",
     "output_type": "stream",
     "text": [
      "22.4\n"
     ]
    }
   ],
   "source": [
    "bargeld = [32, 4, 46, 12, 18]\n",
    "mittelwert = sum(bargeld) / len(bargeld) #Mittelwert = Summe durch Anzahl der Messungen\n",
    "print(mittelwert)"
   ]
  },
  {
   "cell_type": "markdown",
   "metadata": {},
   "source": [
    "Uns interessiert, wie sehr die einzelnen Studierenden im Schnitt vom arithmetischen Mittel abweichen. Da die durchschnittliche Abweichung, wie wir gesehen hatten, immer 0 ergibt, berechnen wir stattdessen die quadratischen Abweichungen (Erinnerung: ein Quadrat zweier Zahlen ist immer positiv). Zur Veranschaulichung tun wir dies in einer Schleife für jedes Element der Liste einzeln."
   ]
  },
  {
   "cell_type": "code",
   "execution_count": 2,
   "metadata": {},
   "outputs": [
    {
     "name": "stdout",
     "output_type": "stream",
     "text": [
      "92.16000000000003\n",
      "[92.16000000000003]\n",
      "338.55999999999995\n",
      "[92.16000000000003, 338.55999999999995]\n",
      "556.96\n",
      "[92.16000000000003, 338.55999999999995, 556.96]\n",
      "108.15999999999997\n",
      "[92.16000000000003, 338.55999999999995, 556.96, 108.15999999999997]\n",
      "19.35999999999999\n",
      "[92.16000000000003, 338.55999999999995, 556.96, 108.15999999999997, 19.35999999999999]\n"
     ]
    }
   ],
   "source": [
    "quadrAbw = [] #dies legt eine neue Liste an, in die wir für jede*n Studierenden \n",
    "              #die quadrierte Abweichung vom Mittelwert eintragen.\n",
    "for index in range(len(bargeld)) : #\"range(len(bargeld))\" gibt den Befehl, durch die Liste zu iterieren.\n",
    "    studAbw = (bargeld[index] - mittelwert)**2 \n",
    "    print(studAbw)\n",
    "    quadrAbw.append(studAbw)\n",
    "    print(quadrAbw)"
   ]
  },
  {
   "cell_type": "markdown",
   "metadata": {},
   "source": [
    "Bekanntlich ist die Varianz die durchschnittliche quadrierte Abweichung. Wir bilden also aus der Liste quadrAbw wiederum den Mittelwert. Nun gibt es noch das Problem, dass die resultierende Zahl schwierig zu interpretieren ist (Was ist ein Quadrat-Euro?). Deswegen ziehen wir die Wurzel und erhalten die Standardabweichung."
   ]
  },
  {
   "cell_type": "code",
   "execution_count": 3,
   "metadata": {},
   "outputs": [
    {
     "name": "stdout",
     "output_type": "stream",
     "text": [
      "Die Varianz beträgt: 223.04000000000002\n",
      "Die Standardabweichung beträgt: 14.934523762075576\n"
     ]
    }
   ],
   "source": [
    "import math #das math-Paket brauchen wir für die Quadratwurzelfunktion\n",
    "varianz = sum(quadrAbw) / len(quadrAbw)\n",
    "standardabweichung = math.sqrt(varianz)\n",
    "print('Die Varianz beträgt: '+ str(varianz))\n",
    "print('Die Standardabweichung beträgt: '+ str(standardabweichung))"
   ]
  },
  {
   "cell_type": "markdown",
   "metadata": {},
   "source": [
    "# Analyse von statistischen Zusammenhängen\n",
    "Wir haben die Hypothese, dass wohlhabendere Studierende auch mehr Bargeld mit sich herumschleppen. Wir fragen deswegen die gleichen Studierenden (in der gleichen Reihenfolge) nach ihrem Monatseinkommen und halten die Daten wiederum in einer Liste fest. Auch hier berechnen wir Mittelwert, Varianz und Standardabweichung. Die Prozedur ist dieselbe wie oben, nur der Code ist etwas sparsamer."
   ]
  },
  {
   "cell_type": "code",
   "execution_count": 6,
   "metadata": {},
   "outputs": [
    {
     "name": "stdout",
     "output_type": "stream",
     "text": [
      "839.2\n",
      "Die Varianz beträgt: 12759.36\n",
      "Die Standardabweichung beträgt: 112.95733707909372\n"
     ]
    }
   ],
   "source": [
    "einkommen = [880, 690, 1012, 744, 870]\n",
    "mittelwertEinkommen = sum(einkommen) / len(einkommen)\n",
    "varianzEinkommen = sum([(student - mittelwertEinkommen)**2 for student in einkommen]) / len(einkommen)\n",
    "standardabweichungEinkommen = math.sqrt(varianzEinkommen)\n",
    "print(mittelwertEinkommen)\n",
    "print('Die Varianz beträgt: '+ str(varianzEinkommen))\n",
    "print('Die Standardabweichung beträgt: '+ str(standardabweichungEinkommen))"
   ]
  },
  {
   "cell_type": "markdown",
   "metadata": {},
   "source": [
    "Nach unserer Hypothese sollten Studierende mit einem überdurchschnittlichen Einkommen tendenziell überdurchschnittlich viel Bargeld dabei haben. Wir können das prüfen, indem wir die so genannte \"Kovarianz\" berechnen. Dabei multiplizieren wir für jede_n Studierenden die Abweichung vom Mittelwert in der einen Variablen (Bargeld) mit der Abweichung vom Mittelwert in der anderen Variablen. Der Übersichtlichkeit halber programmieren wir das wieder als Schleife: "
   ]
  },
  {
   "cell_type": "code",
   "execution_count": 7,
   "metadata": {},
   "outputs": [
    {
     "name": "stdout",
     "output_type": "stream",
     "text": [
      "391.6799999999996\n",
      "[391.6799999999996]\n",
      "2745.2800000000007\n",
      "[391.6799999999996, 2745.2800000000007]\n",
      "4078.079999999999\n",
      "[391.6799999999996, 2745.2800000000007, 4078.079999999999]\n",
      "990.0800000000004\n",
      "[391.6799999999996, 2745.2800000000007, 4078.079999999999, 990.0800000000004]\n",
      "-135.51999999999975\n",
      "[391.6799999999996, 2745.2800000000007, 4078.079999999999, 990.0800000000004, -135.51999999999975]\n"
     ]
    }
   ],
   "source": [
    "koAbw = [] #dies legt eine neue Liste an, in die wir für jede*n Studierenden \n",
    "           #das Produkt der Abweichungen vom Mittelwert der beiden Variablen eintragen.\n",
    "for index in range(len(bargeld)) : #\"range(len(bargeld))\" gibt den Befehl, durch die Liste zu iterieren.\n",
    "    studAbw = (bargeld[index] - mittelwert) * (einkommen[index] - mittelwertEinkommen) \n",
    "    print(studAbw)\n",
    "    koAbw.append(studAbw)\n",
    "    print(koAbw)"
   ]
  },
  {
   "cell_type": "markdown",
   "metadata": {},
   "source": [
    "Positive Zahlen bedeuten hier einen Zusammenhang in der vermuteten Richtung: entweder geht überdurchschnittliches Einkommen mit überdurchschnittlich viel Bargeld einher, oder unterdurchschnittlich viel Einkommen mit unterdurchschnittlich viel Bargeld (weil minus mal minus ebenfalls plus ergibt). Wenn wir nun also wieder die durchschnittliche Ko-Abweichung berechnen (wie bei der Varianz, nur eben die Ko-Varianz), so gibt uns das schon mal einen ganz guten Hinweis über die Gültigkeit unserer Hypothese."
   ]
  },
  {
   "cell_type": "code",
   "execution_count": 8,
   "metadata": {},
   "outputs": [
    {
     "name": "stdout",
     "output_type": "stream",
     "text": [
      "Die Kovarianz zwischen Einkommen und Bargeld beträgt: 1613.9199999999998\n"
     ]
    }
   ],
   "source": [
    "kovarianz = sum(koAbw) / len(koAbw)\n",
    "print('Die Kovarianz zwischen Einkommen und Bargeld beträgt: ' + str(kovarianz))"
   ]
  },
  {
   "cell_type": "markdown",
   "metadata": {},
   "source": [
    "Gut, das ist schon mal eine positive Zahl und deutet darauf hin, dass wir mit unserer Hypothese wohl richtig liegen. Allerdings fällt es schwer, die Kovarianz zu interpretieren. Ist das nun ein starker Zusammenhang oder eher ein leichter? Um die Frage zu beantworten, relativieren wir die Kovarianz am Produkt der Standardabweichungen der beiden Variablen und erhalten den sog. Korrelationskoeffizienten nach Pearson."
   ]
  },
  {
   "cell_type": "code",
   "execution_count": 9,
   "metadata": {},
   "outputs": [
    {
     "name": "stdout",
     "output_type": "stream",
     "text": [
      "Die Korrelation zwischen Einkommen und Bargeld beträgt: 0.9567008939102087\n"
     ]
    }
   ],
   "source": [
    "pearsonKorrelation = kovarianz / (standardabweichung * standardabweichungEinkommen)\n",
    "print('Die Korrelation zwischen Einkommen und Bargeld beträgt: ' + str(pearsonKorrelation))"
   ]
  },
  {
   "cell_type": "markdown",
   "metadata": {},
   "source": [
    "Der Korrelationskoeffizient nach Pearson (abgekürzt mit r oder griechisch rho) kann sich mathematisch nur zwischen r=1 (für einen perfekten Zusammenhang) und r=-1 (für einen perfekten negativen Zusammenhang, d.h. in dem Beispiel, wer höheres Einkommen hat, hätte weniger Bargeld dabei) bewegen. Wenn es keinen Zusammenhang gibt, ist r=0. In unserem Beispiel spricht der empirisch gefundene Wert von etwa r = 0,96 für einen ziemlich starken, fast perfekten Zusammenhang. D.h. es ist tatsächlich so, dass Studierende mit einem höheren Einkommen auch tendenziell mehr Bargeld dabei haben. Nicht vergessen, dass das ein hypothetisches Beispiel war. In der Praxis kommen derart starke Zusammenhänge so gut wie nicht vor; alles ab etwa r=0.5 ist als empirisch ziemlich bedeutsamer Zusammenhang zu betrachten."
   ]
  },
  {
   "cell_type": "markdown",
   "metadata": {},
   "source": [
    "# Berechnung mit Pandas\n",
    "Natürlich ist es wiederum nicht sehr effizient, solche Rechnungen mit Listen und Schleifen zu programmieren. Natürlich hat Pandas eine eingebaute Korrelationsfunktion. Um sie zu nutzen, wandeln wir die Listen zunächst in Pandas-Serienobjekte um. Dann benutzen wir die Funktion \"corr\" (Dokumentation siehe: https://pandas.pydata.org/pandas-docs/stable/generated/pandas.Series.corr.html), um unsere Rechnung abzukürzen."
   ]
  },
  {
   "cell_type": "code",
   "execution_count": 10,
   "metadata": {},
   "outputs": [
    {
     "name": "stdout",
     "output_type": "stream",
     "text": [
      "0.95670089391\n"
     ]
    }
   ],
   "source": [
    "import pandas as pd #nicht vergessen ;)\n",
    "\n",
    "einkommenPd = pd.Series(einkommen)\n",
    "bargeldPd = pd.Series(bargeld)\n",
    "\n",
    "pearsonKorrelationPandas = einkommenPd.corr(bargeldPd) \n",
    "print(pearsonKorrelationPandas)"
   ]
  },
  {
   "cell_type": "markdown",
   "metadata": {},
   "source": [
    "Nun sind wir in der Lage, einfache Zusammenhangshypothesen für unsere städtischen Beispiele zu untersuchen. Wir nehmen etwa an, dass in Potsdamer Stadtvierteln, in denen wenige junge Menschen wohnen, viele ältere Menschen wohnen. Mit anderen Worten, wir vermuten r < 0 für die Zahl der Potsdamer U18 und Ü65 aus dem Beispieldatensatz, den wir nun zunächst wieder in Python laden."
   ]
  },
  {
   "cell_type": "code",
   "execution_count": 11,
   "metadata": {},
   "outputs": [
    {
     "data": {
      "text/html": [
       "<div>\n",
       "<style>\n",
       "    .dataframe thead tr:only-child th {\n",
       "        text-align: right;\n",
       "    }\n",
       "\n",
       "    .dataframe thead th {\n",
       "        text-align: left;\n",
       "    }\n",
       "\n",
       "    .dataframe tbody tr th {\n",
       "        vertical-align: top;\n",
       "    }\n",
       "</style>\n",
       "<table border=\"1\" class=\"dataframe\">\n",
       "  <thead>\n",
       "    <tr style=\"text-align: right;\">\n",
       "      <th></th>\n",
       "      <th>Bezirk</th>\n",
       "      <th>Einwohner</th>\n",
       "      <th>Einwohner 0-18</th>\n",
       "      <th>Einwohner 18-65</th>\n",
       "      <th>Einwohner 65+</th>\n",
       "    </tr>\n",
       "  </thead>\n",
       "  <tbody>\n",
       "    <tr>\n",
       "      <th>0</th>\n",
       "      <td>Babelsberg Nord</td>\n",
       "      <td>11016</td>\n",
       "      <td>2294</td>\n",
       "      <td>7188</td>\n",
       "      <td>1534</td>\n",
       "    </tr>\n",
       "    <tr>\n",
       "      <th>1</th>\n",
       "      <td>Babelsberg Süd</td>\n",
       "      <td>11377</td>\n",
       "      <td>1672</td>\n",
       "      <td>7770</td>\n",
       "      <td>1935</td>\n",
       "    </tr>\n",
       "    <tr>\n",
       "      <th>2</th>\n",
       "      <td>Berliner Vorstadt</td>\n",
       "      <td>2415</td>\n",
       "      <td>406</td>\n",
       "      <td>1464</td>\n",
       "      <td>545</td>\n",
       "    </tr>\n",
       "    <tr>\n",
       "      <th>3</th>\n",
       "      <td>Bornim</td>\n",
       "      <td>2747</td>\n",
       "      <td>483</td>\n",
       "      <td>1816</td>\n",
       "      <td>448</td>\n",
       "    </tr>\n",
       "    <tr>\n",
       "      <th>4</th>\n",
       "      <td>Bornstedt</td>\n",
       "      <td>9169</td>\n",
       "      <td>1972</td>\n",
       "      <td>5767</td>\n",
       "      <td>1430</td>\n",
       "    </tr>\n",
       "  </tbody>\n",
       "</table>\n",
       "</div>"
      ],
      "text/plain": [
       "              Bezirk  Einwohner  Einwohner 0-18  Einwohner 18-65  \\\n",
       "0    Babelsberg Nord      11016            2294             7188   \n",
       "1     Babelsberg Süd      11377            1672             7770   \n",
       "2  Berliner Vorstadt       2415             406             1464   \n",
       "3             Bornim       2747             483             1816   \n",
       "4          Bornstedt       9169            1972             5767   \n",
       "\n",
       "   Einwohner 65+  \n",
       "0           1534  \n",
       "1           1935  \n",
       "2            545  \n",
       "3            448  \n",
       "4           1430  "
      ]
     },
     "execution_count": 11,
     "metadata": {},
     "output_type": "execute_result"
    }
   ],
   "source": [
    "potsdam = pd.read_csv('PotsdamBezirke.csv')\n",
    "potsdam.head() #dies ist übrigens ein netter Befehl, um nur die ersten 5 Zeilen eines Dataframe anzuzeigen."
   ]
  },
  {
   "cell_type": "code",
   "execution_count": 12,
   "metadata": {},
   "outputs": [
    {
     "name": "stdout",
     "output_type": "stream",
     "text": [
      "0.826088137969\n"
     ]
    }
   ],
   "source": [
    "korrelationJungeAlte = potsdam['Einwohner 0-18'].corr(potsdam['Einwohner 65+'])\n",
    "print(korrelationJungeAlte)"
   ]
  },
  {
   "cell_type": "markdown",
   "metadata": {},
   "source": [
    "Mhm. Das ist unerwartet. Was ist hier los? Mit folgendem Code verschaffen wir uns einen Überblick über alle Variablenzusammenhänge in dem DataFrame."
   ]
  },
  {
   "cell_type": "code",
   "execution_count": 13,
   "metadata": {},
   "outputs": [
    {
     "data": {
      "text/html": [
       "<div>\n",
       "<style>\n",
       "    .dataframe thead tr:only-child th {\n",
       "        text-align: right;\n",
       "    }\n",
       "\n",
       "    .dataframe thead th {\n",
       "        text-align: left;\n",
       "    }\n",
       "\n",
       "    .dataframe tbody tr th {\n",
       "        vertical-align: top;\n",
       "    }\n",
       "</style>\n",
       "<table border=\"1\" class=\"dataframe\">\n",
       "  <thead>\n",
       "    <tr style=\"text-align: right;\">\n",
       "      <th></th>\n",
       "      <th>Einwohner</th>\n",
       "      <th>Einwohner 0-18</th>\n",
       "      <th>Einwohner 18-65</th>\n",
       "      <th>Einwohner 65+</th>\n",
       "    </tr>\n",
       "  </thead>\n",
       "  <tbody>\n",
       "    <tr>\n",
       "      <th>Einwohner</th>\n",
       "      <td>1.000000</td>\n",
       "      <td>0.952538</td>\n",
       "      <td>0.996135</td>\n",
       "      <td>0.942113</td>\n",
       "    </tr>\n",
       "    <tr>\n",
       "      <th>Einwohner 0-18</th>\n",
       "      <td>0.952538</td>\n",
       "      <td>1.000000</td>\n",
       "      <td>0.953333</td>\n",
       "      <td>0.826088</td>\n",
       "    </tr>\n",
       "    <tr>\n",
       "      <th>Einwohner 18-65</th>\n",
       "      <td>0.996135</td>\n",
       "      <td>0.953333</td>\n",
       "      <td>1.000000</td>\n",
       "      <td>0.914253</td>\n",
       "    </tr>\n",
       "    <tr>\n",
       "      <th>Einwohner 65+</th>\n",
       "      <td>0.942113</td>\n",
       "      <td>0.826088</td>\n",
       "      <td>0.914253</td>\n",
       "      <td>1.000000</td>\n",
       "    </tr>\n",
       "  </tbody>\n",
       "</table>\n",
       "</div>"
      ],
      "text/plain": [
       "                 Einwohner  Einwohner 0-18  Einwohner 18-65  Einwohner 65+\n",
       "Einwohner         1.000000        0.952538         0.996135       0.942113\n",
       "Einwohner 0-18    0.952538        1.000000         0.953333       0.826088\n",
       "Einwohner 18-65   0.996135        0.953333         1.000000       0.914253\n",
       "Einwohner 65+     0.942113        0.826088         0.914253       1.000000"
      ]
     },
     "execution_count": 13,
     "metadata": {},
     "output_type": "execute_result"
    }
   ],
   "source": [
    "potsdam.corr()"
   ]
  },
  {
   "cell_type": "markdown",
   "metadata": {},
   "source": [
    "Ach so, wir haben nicht an der Gesamteinwohnerzahl relativiert. In Vierteln mit vielen Einwohnern überhaupt wohnen natürlich sowohl viele Ältere als auch viele Jüngere. Daher die positive, nicht negative, Korrelation. Wir definieren daher zunächst mal neue Variablen mit dem relativen Anteil Älterer und Jüngerer pro Stadtviertel."
   ]
  },
  {
   "cell_type": "code",
   "execution_count": 14,
   "metadata": {
    "collapsed": true
   },
   "outputs": [],
   "source": [
    "potsdam['U18rel'] = potsdam['Einwohner 0-18'] / potsdam['Einwohner']\n",
    "potsdam['Ue65rel'] = potsdam['Einwohner 65+'] / potsdam['Einwohner']"
   ]
  },
  {
   "cell_type": "code",
   "execution_count": 15,
   "metadata": {},
   "outputs": [
    {
     "data": {
      "text/html": [
       "<div>\n",
       "<style>\n",
       "    .dataframe thead tr:only-child th {\n",
       "        text-align: right;\n",
       "    }\n",
       "\n",
       "    .dataframe thead th {\n",
       "        text-align: left;\n",
       "    }\n",
       "\n",
       "    .dataframe tbody tr th {\n",
       "        vertical-align: top;\n",
       "    }\n",
       "</style>\n",
       "<table border=\"1\" class=\"dataframe\">\n",
       "  <thead>\n",
       "    <tr style=\"text-align: right;\">\n",
       "      <th></th>\n",
       "      <th>Bezirk</th>\n",
       "      <th>Einwohner</th>\n",
       "      <th>Einwohner 0-18</th>\n",
       "      <th>Einwohner 18-65</th>\n",
       "      <th>Einwohner 65+</th>\n",
       "      <th>U18rel</th>\n",
       "      <th>Ue65rel</th>\n",
       "    </tr>\n",
       "  </thead>\n",
       "  <tbody>\n",
       "    <tr>\n",
       "      <th>0</th>\n",
       "      <td>Babelsberg Nord</td>\n",
       "      <td>11016</td>\n",
       "      <td>2294</td>\n",
       "      <td>7188</td>\n",
       "      <td>1534</td>\n",
       "      <td>0.208243</td>\n",
       "      <td>0.139252</td>\n",
       "    </tr>\n",
       "    <tr>\n",
       "      <th>1</th>\n",
       "      <td>Babelsberg Süd</td>\n",
       "      <td>11377</td>\n",
       "      <td>1672</td>\n",
       "      <td>7770</td>\n",
       "      <td>1935</td>\n",
       "      <td>0.146963</td>\n",
       "      <td>0.170080</td>\n",
       "    </tr>\n",
       "    <tr>\n",
       "      <th>2</th>\n",
       "      <td>Berliner Vorstadt</td>\n",
       "      <td>2415</td>\n",
       "      <td>406</td>\n",
       "      <td>1464</td>\n",
       "      <td>545</td>\n",
       "      <td>0.168116</td>\n",
       "      <td>0.225673</td>\n",
       "    </tr>\n",
       "    <tr>\n",
       "      <th>3</th>\n",
       "      <td>Bornim</td>\n",
       "      <td>2747</td>\n",
       "      <td>483</td>\n",
       "      <td>1816</td>\n",
       "      <td>448</td>\n",
       "      <td>0.175828</td>\n",
       "      <td>0.163087</td>\n",
       "    </tr>\n",
       "    <tr>\n",
       "      <th>4</th>\n",
       "      <td>Bornstedt</td>\n",
       "      <td>9169</td>\n",
       "      <td>1972</td>\n",
       "      <td>5767</td>\n",
       "      <td>1430</td>\n",
       "      <td>0.215073</td>\n",
       "      <td>0.155960</td>\n",
       "    </tr>\n",
       "  </tbody>\n",
       "</table>\n",
       "</div>"
      ],
      "text/plain": [
       "              Bezirk  Einwohner  Einwohner 0-18  Einwohner 18-65  \\\n",
       "0    Babelsberg Nord      11016            2294             7188   \n",
       "1     Babelsberg Süd      11377            1672             7770   \n",
       "2  Berliner Vorstadt       2415             406             1464   \n",
       "3             Bornim       2747             483             1816   \n",
       "4          Bornstedt       9169            1972             5767   \n",
       "\n",
       "   Einwohner 65+    U18rel   Ue65rel  \n",
       "0           1534  0.208243  0.139252  \n",
       "1           1935  0.146963  0.170080  \n",
       "2            545  0.168116  0.225673  \n",
       "3            448  0.175828  0.163087  \n",
       "4           1430  0.215073  0.155960  "
      ]
     },
     "execution_count": 15,
     "metadata": {},
     "output_type": "execute_result"
    }
   ],
   "source": [
    "potsdam.head() #Mal schauen, ob das geklappt hat."
   ]
  },
  {
   "cell_type": "markdown",
   "metadata": {},
   "source": [
    "Nun probieren wir es nochmal: Gibt es in Stadtteilen mit verhältnismäßig vielen jüngeren Potsdamer_innen verhältnismäßig wenige Ältere (und umgekehrt)?"
   ]
  },
  {
   "cell_type": "code",
   "execution_count": 16,
   "metadata": {},
   "outputs": [
    {
     "name": "stdout",
     "output_type": "stream",
     "text": [
      "-0.625188003383\n"
     ]
    }
   ],
   "source": [
    "korrelationJungeAlte = potsdam['U18rel'].corr(potsdam['Ue65rel'])\n",
    "print(korrelationJungeAlte)"
   ]
  },
  {
   "cell_type": "markdown",
   "metadata": {},
   "source": [
    "Nun fällt das Ergebnis wie erwartet aus. Man sieht: Korrelationsrechnung hat ihre Tücken und man muss sich sehr genau überlegen, welche Daten man benutzt."
   ]
  },
  {
   "cell_type": "code",
   "execution_count": null,
   "metadata": {
    "collapsed": true
   },
   "outputs": [],
   "source": []
  }
 ],
 "metadata": {
  "kernelspec": {
   "display_name": "Python 3",
   "language": "python",
   "name": "python3"
  },
  "language_info": {
   "codemirror_mode": {
    "name": "ipython",
    "version": 3
   },
   "file_extension": ".py",
   "mimetype": "text/x-python",
   "name": "python",
   "nbconvert_exporter": "python",
   "pygments_lexer": "ipython3",
   "version": "3.6.1"
  }
 },
 "nbformat": 4,
 "nbformat_minor": 2
}
