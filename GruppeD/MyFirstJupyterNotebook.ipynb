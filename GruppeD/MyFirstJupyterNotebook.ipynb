{
 "cells": [
  {
   "cell_type": "markdown",
   "metadata": {},
   "source": [
    "# Einführung\n",
    "Dies ist das erste Jupyter Notebook für den Data-Science-Kurs. Das schöne daran ist, dass man Text schreiben kann wie in einem wissenschaftlichen Bericht, aber auch gleich den Python-Code direkt einbetten.\n",
    "# Code\n",
    "Das folgende ist ein einfaches Beispiel für den Python code:"
   ]
  },
  {
   "cell_type": "code",
   "execution_count": 11,
   "metadata": {},
   "outputs": [
    {
     "name": "stdout",
     "output_type": "stream",
     "text": [
      "5.5\n"
     ]
    }
   ],
   "source": [
    "a = 3.4\n",
    "b = 2.1\n",
    "\n",
    "print(a+b)\n"
   ]
  },
  {
   "cell_type": "code",
   "execution_count": 4,
   "metadata": {},
   "outputs": [
    {
     "name": "stdout",
     "output_type": "stream",
     "text": [
      "      EWgesamt  EWunter30  EW30bis60  EWueber60  HHgesamt  1PHHgesamt  \\\n",
      "2007    192121      49052      45602      42072    102003       49692   \n",
      "2008    191959      49004      45549      42397    102384       50656   \n",
      "2009    192241      49177      45515      42510    102867       50467   \n",
      "2010    193112      49393      45524      42466    103884       51726   \n",
      "2011    194109      49623      45862      42588    102343       50814   \n",
      "2012    195422      49521      46600      42695    103825       52210   \n",
      "2013    196758      66270      51125      49662    105889       54076   \n",
      "2014    197092      66596      80572      49924    106459       54653   \n",
      "2015    200507      68790      81453      50264    108082       56145   \n",
      "2016    201907      69862      81458      50587    108913       56541   \n",
      "2017    204021      70873      82160      50988    109533       56669   \n",
      "\n",
      "      1PHHunter30  1PHH30bis60  1PHHueber60  \n",
      "2007        11660        21157        16875  \n",
      "2008        12451        22425        15780  \n",
      "2009        12355        21226        16886  \n",
      "2010        12782        21735        17209  \n",
      "2011        12782        22026        16006  \n",
      "2012        13238        22628        16344  \n",
      "2013        14165        23223        16688  \n",
      "2014        14341        23392        16920  \n",
      "2015        14918        24173        17054  \n",
      "2016        15110        23939        17492  \n",
      "2017        14920        23991        17758  \n"
     ]
    }
   ],
   "source": [
    "import pandas as pd\n",
    "kassel = pd.read_csv('Forschungsdaten_03_csv.csv', index_col=0, sep=\";\")\n",
    "print(kassel)"
   ]
  },
  {
   "cell_type": "markdown",
   "metadata": {},
   "source": [
    "Wenn man Shift+Enter drückt, wird der Code ausgeführt und man erhät das Ergebnis."
   ]
  },
  {
   "cell_type": "markdown",
   "metadata": {},
   "source": [
    "# Diskussion\n",
    "Sind 2 und 2 wirklich immer 4? Diese spannende Frage ist nicht so trivial, wie sie scheint, und wird von Muller et al. (2010) ausführlich erörtert.\n",
    "\n",
    "# Literaturangaben\n",
    "Muller, J.-M., Brisebarre, N., de Dinechin, F., Jeannerod, C.-P., Lefèvre, V., Melquiond, G., Revol, N., Stehlé, D., Torres, S. (2010). Handbook of floating-point arithmetic. Heidelberg: Springer Nature."
   ]
  },
  {
   "cell_type": "code",
   "execution_count": 16,
   "metadata": {},
   "outputs": [],
   "source": [
    "frage1=kassel[[\"Haushalte_insgesamt\", \"1-Prs.haushalte\"]]\n",
    "\n"
   ]
  },
  {
   "cell_type": "code",
   "execution_count": 17,
   "metadata": {},
   "outputs": [
    {
     "name": "stdout",
     "output_type": "stream",
     "text": [
      "      Haushalte_insgesamt  1-Prs.haushalte\n",
      "2007               102003            49692\n",
      "2008               102384            50656\n",
      "2009               102867            50467\n",
      "2010               103884            51726\n",
      "2011               102343            50814\n",
      "2012               103825            52210\n",
      "2013               105889            54076\n",
      "2014               106459            54653\n",
      "2015               108082            56145\n",
      "2016               108913            56541\n",
      "2017               109533            56669\n"
     ]
    }
   ],
   "source": [
    "print(frage1) "
   ]
  },
  {
   "cell_type": "code",
   "execution_count": 25,
   "metadata": {},
   "outputs": [
    {
     "name": "stdout",
     "output_type": "stream",
     "text": [
      "2007    48.716214\n",
      "2008    49.476481\n",
      "2009    49.060437\n",
      "2010    49.792076\n",
      "2011    49.650684\n",
      "2012    50.286540\n",
      "2013    51.068572\n",
      "2014    51.337134\n",
      "2015    51.946670\n",
      "2016    51.913913\n",
      "2017    51.736919\n",
      "dtype: float64\n"
     ]
    }
   ],
   "source": [
    "print((frage1[\"1-Prs.haushalte\"] / frage1[\"Haushalte_insgesamt\"]) * 100)"
   ]
  },
  {
   "cell_type": "code",
   "execution_count": 5,
   "metadata": {},
   "outputs": [
    {
     "name": "stdout",
     "output_type": "stream",
     "text": [
      "      EWgesamt  EWunter30  EW30bis60  EWueber60  HHgesamt  1PHHgesamt  \\\n",
      "2007    192121      49052      45602      42072    102003       49692   \n",
      "2008    191959      49004      45549      42397    102384       50656   \n",
      "2009    192241      49177      45515      42510    102867       50467   \n",
      "2010    193112      49393      45524      42466    103884       51726   \n",
      "2011    194109      49623      45862      42588    102343       50814   \n",
      "2012    195422      49521      46600      42695    103825       52210   \n",
      "2013    196758      66270      51125      49662    105889       54076   \n",
      "2014    197092      66596      80572      49924    106459       54653   \n",
      "2015    200507      68790      81453      50264    108082       56145   \n",
      "2016    201907      69862      81458      50587    108913       56541   \n",
      "2017    204021      70873      82160      50988    109533       56669   \n",
      "\n",
      "      1PHHunter30  1PHH30bis60  1PHHueber60   Rel1PHH  \n",
      "2007        11660        21157        16875  0.487162  \n",
      "2008        12451        22425        15780  0.494765  \n",
      "2009        12355        21226        16886  0.490604  \n",
      "2010        12782        21735        17209  0.497921  \n",
      "2011        12782        22026        16006  0.496507  \n",
      "2012        13238        22628        16344  0.502865  \n",
      "2013        14165        23223        16688  0.510686  \n",
      "2014        14341        23392        16920  0.513371  \n",
      "2015        14918        24173        17054  0.519467  \n",
      "2016        15110        23939        17492  0.519139  \n",
      "2017        14920        23991        17758  0.517369  \n"
     ]
    }
   ],
   "source": [
    "## inhaltliche Hypothese: Je höher der Anteil an 1Personenhaushalten desto höher der Anteil der Ü60-Jährigen.\n",
    "## statistische Hypothese: Vermutet wird ein positiver Korrelationskoeffizient zwischen Var1 und Var2.\n",
    "##Var1 = 1PHHgesamt / HHgesamt\n",
    "##Var2 = EWueber60 / EWgesamt  \n",
    "kassel[\"Rel1PHH\"] = kassel[\"1PHHgesamt\"] / kassel[\"HHgesamt\"]\n",
    "print(kassel)"
   ]
  },
  {
   "cell_type": "code",
   "execution_count": 6,
   "metadata": {},
   "outputs": [
    {
     "name": "stdout",
     "output_type": "stream",
     "text": [
      "      EWgesamt  EWunter30  EW30bis60  EWueber60  HHgesamt  1PHHgesamt  \\\n",
      "2007    192121      49052      45602      42072    102003       49692   \n",
      "2008    191959      49004      45549      42397    102384       50656   \n",
      "2009    192241      49177      45515      42510    102867       50467   \n",
      "2010    193112      49393      45524      42466    103884       51726   \n",
      "2011    194109      49623      45862      42588    102343       50814   \n",
      "2012    195422      49521      46600      42695    103825       52210   \n",
      "2013    196758      66270      51125      49662    105889       54076   \n",
      "2014    197092      66596      80572      49924    106459       54653   \n",
      "2015    200507      68790      81453      50264    108082       56145   \n",
      "2016    201907      69862      81458      50587    108913       56541   \n",
      "2017    204021      70873      82160      50988    109533       56669   \n",
      "\n",
      "      1PHHunter30  1PHH30bis60  1PHHueber60   Rel1PHH   RelEW60  \n",
      "2007        11660        21157        16875  0.487162  0.218987  \n",
      "2008        12451        22425        15780  0.494765  0.220865  \n",
      "2009        12355        21226        16886  0.490604  0.221129  \n",
      "2010        12782        21735        17209  0.497921  0.219903  \n",
      "2011        12782        22026        16006  0.496507  0.219403  \n",
      "2012        13238        22628        16344  0.502865  0.218476  \n",
      "2013        14165        23223        16688  0.510686  0.252401  \n",
      "2014        14341        23392        16920  0.513371  0.253303  \n",
      "2015        14918        24173        17054  0.519467  0.250685  \n",
      "2016        15110        23939        17492  0.519139  0.250546  \n",
      "2017        14920        23991        17758  0.517369  0.249915  \n"
     ]
    }
   ],
   "source": [
    "kassel[\"RelEW60\"] = kassel[\"EWueber60\"] / kassel[\"EWgesamt\"]\n",
    "print(kassel)\n"
   ]
  },
  {
   "cell_type": "code",
   "execution_count": 7,
   "metadata": {},
   "outputs": [
    {
     "data": {
      "text/plain": [
       "0.9056696482355895"
      ]
     },
     "execution_count": 7,
     "metadata": {},
     "output_type": "execute_result"
    }
   ],
   "source": [
    "##Korrelationskoeffizienten berechnen\n",
    "kassel[\"Rel1PHH\"].corr(kassel[\"RelEW60\"])"
   ]
  },
  {
   "cell_type": "code",
   "execution_count": null,
   "metadata": {},
   "outputs": [],
   "source": [
    "##Seltsam. Was ist bei der Datenerfassung von 2012 zu 2013 passiert? Warum wurde Kassel für alte Menschen so attraktiv? >> Nachfragen\n",
    "## Ideen: Idee 1: Mediansplit im Alter und Idee 2: splitten unter 2012 und über 2013"
   ]
  }
 ],
 "metadata": {
  "kernelspec": {
   "display_name": "Python 3",
   "language": "python",
   "name": "python3"
  },
  "language_info": {
   "codemirror_mode": {
    "name": "ipython",
    "version": 3
   },
   "file_extension": ".py",
   "mimetype": "text/x-python",
   "name": "python",
   "nbconvert_exporter": "python",
   "pygments_lexer": "ipython3",
   "version": "3.6.5"
  }
 },
 "nbformat": 4,
 "nbformat_minor": 2
}
